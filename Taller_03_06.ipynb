{
  "nbformat": 4,
  "nbformat_minor": 0,
  "metadata": {
    "colab": {
      "private_outputs": true,
      "provenance": [],
      "authorship_tag": "ABX9TyPqfZlwU/SZDvSK7VzSlxRv",
      "include_colab_link": true
    },
    "kernelspec": {
      "name": "python3",
      "display_name": "Python 3"
    },
    "language_info": {
      "name": "python"
    }
  },
  "cells": [
    {
      "cell_type": "markdown",
      "metadata": {
        "id": "view-in-github",
        "colab_type": "text"
      },
      "source": [
        "<a href=\"https://colab.research.google.com/github/david1620301/senalesysistemas/blob/main/Taller_03_06.ipynb\" target=\"_parent\"><img src=\"https://colab.research.google.com/assets/colab-badge.svg\" alt=\"Open In Colab\"/></a>"
      ]
    },
    {
      "cell_type": "markdown",
      "source": [
        "#1)"
      ],
      "metadata": {
        "id": "iIkIYEbJtHuV"
      }
    },
    {
      "cell_type": "markdown",
      "source": [
        "Explique las semejanzas y diferencias entre la serie de Fourier\n",
        "(exponencial, trigonom´etrica y compacta), la transformada\n",
        "de Fourier, transformada de Fourier en tiempo discreto\n",
        "(DTFT) y transformada discreta de Fourier (DFT). Considere\n",
        "las diferentes combinaciones entre: espectro continuo y\n",
        "discreto y se˜nal en tiempo continuo y discreto. Adem´as, consulte\n",
        "en qu´e consiste el algoritmo Fast Fourier Transform -\n",
        "(FFT) y su utilidad para el c´alculo de la transformada discreta\n",
        "de Fourier. Explique en detalle el algoritmo FFT y su\n",
        "costo computacional vs el de la transformada discreta."
      ],
      "metadata": {
        "id": "hOXV4kP3tKe8"
      }
    },
    {
      "cell_type": "markdown",
      "source": [
        "Claro, aquí tienes una paráfrasis clara y estructurada del texto original:\n",
        "\n",
        "---\n",
        "\n",
        "### **Serie de Fourier (Formas Exponencial, Trigonométrica y Compacta)**\n",
        "\n",
        "* **Aplicación**: Se utiliza para analizar señales periódicas en el dominio del tiempo continuo.\n",
        "* **Espectro**: Discreto, compuesto por frecuencias que son múltiplos enteros de la frecuencia fundamental.\n",
        "* **Semejanzas**: Todas las variantes (exponencial, trigonométrica y compacta) representan la misma señal periódica, solo cambian en su forma de expresión.\n",
        "* **Diferencias**:\n",
        "\n",
        "  * La forma **trigonométrica** emplea funciones seno y coseno.\n",
        "  * La forma **exponencial** usa exponenciales complejas.\n",
        "  * La forma **compacta** describe la señal usando magnitud y fase.\n",
        "\n",
        "---\n",
        "\n",
        "### **Transformada de Fourier**\n",
        "\n",
        "* **Aplicación**: Se aplica a señales no periódicas en tiempo continuo.\n",
        "* **Espectro**: Continuo, abarca todas las frecuencias reales.\n",
        "* **Semejanzas**: Se considera una generalización de la serie de Fourier cuando el periodo tiende a infinito.\n",
        "* **Diferencias**: A diferencia de la serie de Fourier, trabaja con señales no periódicas y genera un espectro continuo.\n",
        "\n",
        "---\n",
        "\n",
        "### **Transformada de Fourier en Tiempo Discreto (DTFT)**\n",
        "\n",
        "* **Aplicación**: Diseñada para señales no periódicas en tiempo discreto.\n",
        "* **Espectro**: Continuo y periódico en la frecuencia, con un periodo de $2\\pi$ radianes.\n",
        "* **Semejanzas**: Es el equivalente en tiempo discreto de la transformada de Fourier.\n",
        "* **Diferencias**: A diferencia de la versión continua, la DTFT trabaja con secuencias discretas y su espectro se repite periódicamente.\n",
        "\n",
        "---\n",
        "\n",
        "### **Transformada Discreta de Fourier (DFT)**\n",
        "\n",
        "* **Aplicación**: Se utiliza con secuencias finitas de tiempo discreto, asumiendo periodicidad.\n",
        "* **Espectro**: Discreto y finito, se evalúa solo en ciertas frecuencias.\n",
        "* **Semejanzas**: Representa una versión muestreada de la DTFT y es esencial en aplicaciones digitales.\n",
        "* **Diferencias**: A diferencia de la DTFT, se limita a un conjunto finito de muestras tanto en el tiempo como en la frecuencia.\n",
        "\n",
        "---\n",
        "\n",
        "### **Algoritmo de Transformada Rápida de Fourier (FFT)**\n",
        "\n",
        "* **Definición**: No es una nueva transformada, sino un algoritmo optimizado para calcular la DFT de forma eficiente.\n",
        "* **Importancia**: Reduce drásticamente el tiempo de cálculo, lo que ha sido clave en áreas como compresión, análisis de espectro y filtrado digital.\n",
        "* **Funcionamiento**:\n",
        "\n",
        "  * El algoritmo FFT más conocido (Cooley-Tukey) usa una estrategia de \"divide y vencerás\" para descomponer una DFT grande en subproblemas más pequeños.\n",
        "  * Se aprovechan propiedades de simetría y periodicidad de los exponenciales complejos.\n",
        "  * Esta descomposición continúa hasta obtener DFTs de tamaño 1, que luego se combinan para formar el resultado final.\n",
        "  * Existen variantes del algoritmo como radix-2 y radix-4, según cómo se realice la descomposición.\n",
        "\n",
        "---\n",
        "\n",
        "### **Costo Computacional**\n",
        "\n",
        "* **DFT directa**: Requiere aproximadamente $O(N^2)$ operaciones complejas.\n",
        "* **FFT**: Reduce ese costo a $O(N \\log_2 N)$ si $N$ es una potencia de 2.\n",
        "* **Comparación**: Por ejemplo, para $N = 1024$:\n",
        "\n",
        "  * La DFT directa necesita alrededor de 1,000,000 de operaciones.\n",
        "  * La FFT solo requiere unas 10,240 operaciones.\n",
        "  * Esto representa una mejora sustancial en eficiencia, especialmente importante en aplicaciones en tiempo real.\n",
        "\n",
        "---\n",
        "\n"
      ],
      "metadata": {
        "id": "wbuUSv7utRKm"
      }
    },
    {
      "cell_type": "markdown",
      "source": [
        "#2)"
      ],
      "metadata": {
        "id": "7MhE5B7QyC3Y"
      }
    },
    {
      "cell_type": "markdown",
      "source": [
        "Encuentre la función de densidad espectral (transformada de Fourier) para las siguientes señales (sin aplicar propiedades):\n",
        "\n",
        "$$\n",
        "\\text{a) } x(t) = e^{-a|t|}, \\quad a \\in \\mathbb{R}^{+}\n",
        "$$\n",
        "\n",
        "$$\n",
        "\\text{b) } x(t) = \\cos(w_c t), \\quad w_c \\in \\mathbb{R}\n",
        "$$\n",
        "\n",
        "$$\n",
        "\\text{c) } x(t) = \\sin(w_s t), \\quad w_s \\in \\mathbb{R}\n",
        "$$\n",
        "\n",
        "$$\n",
        "\\text{d) } x(t) = f(t)\\cos(w_c t), \\quad w_c \\in \\mathbb{R}, \\quad f(t) \\in \\mathbb{R} \\text{ o } \\mathbb{C}\n",
        "$$\n",
        "\n",
        "$$\n",
        "\\text{e) } x(t) = e^{-a|t|^2}, \\quad a \\in \\mathbb{R}^{+}\n",
        "$$\n",
        "\n",
        "$$\n",
        "\\text{f) } x(t) = A \\cdot \\text{Arct}_d(t), \\quad A, d \\in \\mathbb{R}\n",
        "$$\n"
      ],
      "metadata": {
        "id": "Iz-SyStLyvGp"
      }
    },
    {
      "cell_type": "markdown",
      "source": [
        "Solucion:\n",
        "a) $x(t) = e^{-a|t|}, \\quad a \\in \\mathbb{R}^{+}$$x(t) = e^{-a|t|}, \\quad a \\in \\mathbb{R}^{+}$\n",
        "\n",
        "Necesitamos evaluar las dos integrales que establecimos: $$ X(\\omega) = \\int_{-\\infty}^{0} e^{(a-j\\omega)t} dt + \\int_{0}^{\\infty} e^{-(a+j\\omega)t} dt $$\n",
        "\n",
        "Para la primera integral: $$ \\int_{-\\infty}^{0} e^{(a-j\\omega)t} dt = \\left[ \\frac{e^{(a-j\\omega)t}}{a-j\\omega} \\right]_{-\\infty}^{0} $$ Dado que $a > 0$$a > 0$, cuando $t \\to -\\infty$$t \\to -\\infty$, $e^{(a-j\\omega)t} \\to 0$$e^{(a-j\\omega)t} \\to 0$. $$ = \\frac{e^0}{a-j\\omega} - 0 = \\frac{1}{a-j\\omega} $$\n",
        "\n",
        "Para la segunda integral: $$ \\int_{0}^{\\infty} e^{-(a+j\\omega)t} dt = \\left[ \\frac{e^{-(a+j\\omega)t}}{-(a+j\\omega)} \\right]_{0}^{\\infty} $$ Dado que $a > 0$$a > 0$, cuando $t \\to \\infty$$t \\to \\infty$, $e^{-(a+j\\omega)t} \\to 0$$e^{-(a+j\\omega)t} \\to 0$. $$ = 0 - \\frac{e^0}{-(a+j\\omega)} = \\frac{1}{a+j\\omega} $$\n",
        "\n",
        "Sumando los dos resultados: $$ X(\\omega) = \\frac{1}{a-j\\omega} + \\frac{1}{a+j\\omega} = \\frac{a+j\\omega + a-j\\omega}{(a-j\\omega)(a+j\\omega)} = \\frac{2a}{a^2 + \\omega^2} $$\n",
        "\n",
        "Entonces, la Transformada de Fourier de $e^{-a|t|}$$e^{-a|t|}$ es $X(\\omega) = \\frac{2a}{a^2 + \\omega^2}$.\n",
        "\n",
        "b) $x(t) = \\cos(w_c t), \\quad w_c \\in \\mathbb{R}$$x(t) = \\cos(w_c t), \\quad w_c \\in \\mathbb{R}$\n",
        "\n",
        "Tenemos: $$ X(\\omega) = \\frac{1}{2} \\int_{-\\infty}^{\\infty} e^{j(w_c - \\omega)t} dt + \\frac{1}{2} \\int_{-\\infty}^{\\infty} e^{-j(w_c + \\omega)t} dt $$ Sabemos que $\\int_{-\\infty}^{\\infty} e^{j\\alpha t} dt = 2\\pi \\delta(\\alpha)$\n",
        "\n",
        "Entonces, la primera integral es: $\\int_{-\\infty}^{\\infty} e^{j(w_c - \\omega)t} dt = 2\\pi \\delta(w_c - \\omega) = 2\\pi \\delta(\\omega - w_c)$.\n",
        "\n",
        "Y la segunda integral es $\\int_{-\\infty}^{\\infty} e^{-j(w_c + \\omega)t} dt = \\int_{-\\infty}^{\\infty} e^{j(-(w_c + \\omega))t} dt = 2\\pi \\delta(-(w_c + \\omega)) = 2\\pi \\delta(w_c + \\omega) = 2\\pi \\delta(\\omega + w_c)$.\n",
        "\n",
        "Sustituyendo de nuevo: $$ X(\\omega) = \\frac{1}{2} (2\\pi \\delta(\\omega - w_c)) + \\frac{1}{2} (2\\pi \\delta(\\omega + w_c)) = \\pi \\delta(\\omega - w_c) + \\pi \\delta(\\omega + w_c) $$ Entonces, la Transformada de Fourier de $\\cos(w_c t)$ es $X(\\omega) = \\pi (\\delta(\\omega - w_c) + \\delta(\\omega + w_c))$.\n",
        "\n",
        "c) $x(t) = \\sin(w_s t), \\quad w_s \\in \\mathbb{R}$$x(t) = \\sin(w_s t), \\quad w_s \\in \\mathbb{R}$\n",
        "\n",
        "Tenemos: $$ X(\\omega) = \\frac{1}{2j} \\int_{-\\infty}^{\\infty} e^{j(w_s - \\omega)t} dt - \\frac{1}{2j} \\int_{-\\infty}^{\\infty} e^{-j(w_s + \\omega)t} dt $$$$ X(\\omega) = \\frac{1}{2j} \\int_{-\\infty}^{\\infty} e^{j(w_s - \\omega)t} dt - \\frac{1}{2j} \\int_{-\\infty}^{\\infty} e^{-j(w_s + \\omega)t} dt $$ Usando la misma propiedad que en la parte b): La primera integral es $\\int_{-\\infty}^{\\infty} e^{j(w_s - \\omega)t} dt = 2\\pi \\delta(w_s - \\omega) = 2\\pi \\delta(\\omega - w_s)$$\\int_{-\\infty}^{\\infty} e^{j(w_s - \\omega)t} dt = 2\\pi \\delta(w_s - \\omega) = 2\\pi \\delta(\\omega - w_s)$. La segunda integral es $\\int_{-\\infty}^{\\infty} e^{-j(w_s + \\omega)t} dt = 2\\pi \\delta(\\omega + w_s)$$\\int_{-\\infty}^{\\infty} e^{-j(w_s + \\omega)t} dt = 2\\pi \\delta(\\omega + w_s)$.\n",
        "\n",
        "Sustituyendo de nuevo: $$ X(\\omega) = \\frac{1}{2j} (2\\pi \\delta(\\omega - w_s)) - \\frac{1}{2j} (2\\pi \\delta(\\omega + w_s)) = \\frac{\\pi}{j} \\delta(\\omega - w_s) - \\frac{\\pi}{j} \\delta(\\omega + w_s) $$$$ X(\\omega) = \\frac{1}{2j} (2\\pi \\delta(\\omega - w_s)) - \\frac{1}{2j} (2\\pi \\delta(\\omega + w_s)) = \\frac{\\pi}{j} \\delta(\\omega - w_s) - \\frac{\\pi}{j} \\delta(\\omega + w_s) $$ Dado que $\\frac{1}{j} = -j$$\\frac{1}{j} = -j$: $$ X(\\omega) = -j\\pi \\delta(\\omega - w_s) + j\\pi \\delta(\\omega + w_s) = j\\pi (\\delta(\\omega + w_s) - \\delta(\\omega - w_s)) $$$$ X(\\omega) = -j\\pi \\delta(\\omega - w_s) + j\\pi \\delta(\\omega + w_s) = j\\pi (\\delta(\\omega + w_s) - \\delta(\\omega - w_s)) $$ Entonces, la Transformada de Fourier de $\\sin(w_s t)$$\\sin(w_s t)$ es $X(\\omega) = j\\pi (\\delta(\\omega + w_s) - \\delta(\\omega - w_s))$$X(\\omega) = j\\pi (\\delta(\\omega + w_s) - \\delta(\\omega - w_s))$.\n",
        "\n",
        "d) $x(t) = f(t)\\cos(w_c t), \\quad w_c \\in \\mathbb{R}, \\quad f(t) \\in \\mathbb{R} \\text{ o } \\mathbb{C}$$x(t) = f(t)\\cos(w_c t), \\quad w_c \\in \\mathbb{R}, \\quad f(t) \\in \\mathbb{R} \\text{ o } \\mathbb{C}$\n",
        "\n",
        "Tenemos: $$ X(\\omega) = \\frac{1}{2} \\int_{-\\infty}^{\\infty} f(t) e^{j(w_c - \\omega)t} dt + \\frac{1}{2} \\int_{-\\infty}^{\\infty} f(t) e^{-j(w_c + \\omega)t} dt $$$$ X(\\omega) = \\frac{1}{2} \\int_{-\\infty}^{\\infty} f(t) e^{j(w_c - \\omega)t} dt + \\frac{1}{2} \\int_{-\\infty}^{\\infty} f(t) e^{-j(w_c + \\omega)t} dt $$ Sea $F(\\omega)$$F(\\omega)$ la Transformada de Fourier de $f(t)$$f(t)$: $F(\\omega) = \\int_{-\\infty}^{\\infty} f(t) e^{-j\\omega t} dt$$F(\\omega) = \\int_{-\\infty}^{\\infty} f(t) e^{-j\\omega t} dt$. La primera integral se puede reescribir como: $$ \\int_{-\\infty}^{\\infty} f(t) e^{-j(\\omega - w_c)t} dt $$$$ \\int_{-\\infty}^{\\infty} f(t) e^{-j(\\omega - w_c)t} dt $$ Esta es la Transformada de Fourier de $f(t)$$f(t)$ evaluada en la frecuencia $\\omega - w_c$$\\omega - w_c$, que es $F(\\omega - w_c)$$F(\\omega - w_c)$.\n",
        "\n",
        "La segunda integral se puede reescribir como: $$ \\int_{-\\infty}^{\\infty} f(t) e^{-j(\\omega + w_c)t} dt $$$$ \\int_{-\\infty}^{\\infty} f(t) e^{-j(\\omega + w_c)t} dt $$ Esta es la Transformada de Fourier de $f(t)$$f(t)$ evaluada en la frecuencia $\\omega + w_c$$\\omega + w_c$, que es $F(\\omega + w_c)$$F(\\omega + w_c)$.\n",
        "\n",
        "Sustituyendo de nuevo: $$ X(\\omega) = \\frac{1}{2} F(\\omega - w_c) + \\frac{1}{2} F(\\omega + w_c) $$$$ X(\\omega) = \\frac{1}{2} F(\\omega - w_c) + \\frac{1}{2} F(\\omega + w_c) $$ Entonces, la Transformada de Fourier de $f(t)\\cos(w_c t)$$f(t)\\cos(w_c t)$ es $X(\\omega) = \\frac{1}{2} [F(\\omega - w_c) + F(\\omega + w_c)]$$X(\\omega) = \\frac{1}{2} [F(\\omega - w_c) + F(\\omega + w_c)]$, donde $F(\\omega)$$F(\\omega)$ es la Transformada de Fourier de $f(t)$$f(t)$.\n",
        "\n",
        "e) $x(t) = e^{-a|t|^2}, \\quad a \\in \\mathbb{R}^{+}$$x(t) = e^{-a|t|^2}, \\quad a \\in \\mathbb{R}^{+}$\n",
        "\n",
        "Necesitamos evaluar: $$ X(\\omega) = \\int_{-\\infty}^{\\infty} e^{-at^2} e^{-j\\omega t} dt = \\int_{-\\infty}^{\\infty} e^{-at^2 - j\\omega t} dt $$$$ X(\\omega) = \\int_{-\\infty}^{\\infty} e^{-at^2} e^{-j\\omega t} dt = \\int_{-\\infty}^{\\infty} e^{-at^2 - j\\omega t} dt $$ Para resolver esto usando la fórmula de la integral Gaussiana, completamos el cuadrado en el exponente: $$ -at^2 - j\\omega t = -a \\left( t^2 + \\frac{j\\omega}{a} t \\right) $$$$ -at^2 - j\\omega t = -a \\left( t^2 + \\frac{j\\omega}{a} t \\right) $$ Para completar el cuadrado de $t^2 + \\frac{j\\omega}{a} t$$t^2 + \\frac{j\\omega}{a} t$, sumamos y restamos $(\\frac{j\\omega}{2a})^2$$(\\frac{j\\omega}{2a})^2$: $$ t^2 + \\frac{j\\omega}{a} t + \\left(\\frac{j\\omega}{2a}\\right)^2 - \\left(\\frac{j\\omega}{2a}\\right)^2 = \\left( t + \\frac{j\\omega}{2a} \\right)^2 - \\frac{(j\\omega)^2}{4a^2} = \\left( t + \\frac{j\\omega}{2a} \\right)^2 + \\frac{\\omega^2}{4a^2} $$$$ t^2 + \\frac{j\\omega}{a} t + \\left(\\frac{j\\omega}{2a}\\right)^2 - \\left(\\frac{j\\omega}{2a}\\right)^2 = \\left( t + \\frac{j\\omega}{2a} \\right)^2 - \\frac{(j\\omega)^2}{4a^2} = \\left( t + \\frac{j\\omega}{2a} \\right)^2 + \\frac{\\omega^2}{4a^2} $$ Entonces el exponente se convierte en: $$ -a \\left[ \\left( t + \\frac{j\\omega}{2a} \\right)^2 + \\frac{\\omega^2}{4a^2} \\right] = -a \\left( t + \\frac{j\\omega}{2a} \\right)^2 - \\frac{a\\omega^2}{4a^2} = -a \\left( t + \\frac{j\\omega}{2a} \\right)^2 - \\frac{\\omega^2}{4a} $$$$ -a \\left[ \\left( t + \\frac{j\\omega}{2a} \\right)^2 + \\frac{\\omega^2}{4a^2} \\right] = -a \\left( t + \\frac{j\\omega}{2a} \\right)^2 - \\frac{a\\omega^2}{4a^2} = -a \\left( t + \\frac{j\\omega}{2a} \\right)^2 - \\frac{\\omega^2}{4a} $$ Ahora la integral es: $$ X(\\omega) = \\int_{-\\infty}^{\\infty} e^{-a \\left( t + \\frac{j\\omega}{2a} \\right)^2 - \\frac{\\omega^2}{4a}} dt = e^{-\\frac{\\omega^2}{4a}} \\int_{-\\infty}^{\\infty} e^{-a \\left( t + \\frac{j\\omega}{2a} \\right)^2} dt $$$$ X(\\omega) = \\int_{-\\infty}^{\\infty} e^{-a \\left( t + \\frac{j\\omega}{2a} \\right)^2 - \\frac{\\omega^2}{4a}} dt = e^{-\\frac{\\omega^2}{4a}} \\int_{-\\infty}^{\\infty} e^{-a \\left( t + \\frac{j\\omega}{2a} \\right)^2} dt $$ Sea $\\tau = t + \\frac{j\\omega}{2a}$$\\tau = t + \\frac{j\\omega}{2a}$. Entonces $d\\tau = dt$$d\\tau = dt$. Los límites de integración permanecen de $-\\infty$$-\\infty$ a $\\infty$$\\infty$ en el plano complejo. $$ X(\\omega) = e^{-\\frac{\\omega^2}{4a}} \\int_{-\\infty}^{\\infty} e^{-a \\tau^2} d\\tau $$$$ X(\\omega) = e^{-\\frac{\\omega^2}{4a}} \\int_{-\\infty}^{\\infty} e^{-a \\tau^2} d\\tau $$ Esta es una integral Gaussiana estándar con $b=a$$b=a$. $$ \\int_{-\\infty}^{\\infty} e^{-a \\tau^2} d\\tau = \\sqrt{\\frac{\\pi}{a}} $$$$ \\int_{-\\infty}^{\\infty} e^{-a \\tau^2} d\\tau = \\sqrt{\\frac{\\pi}{a}} $$ Entonces, $$ X(\\omega) = e^{-\\frac{\\omega^2}{4a}} \\sqrt{\\frac{\\pi}{a}} = \\sqrt{\\frac{\\pi}{a}} e^{-\\frac{\\omega^2}{4a}} $$$$ X(\\omega) = e^{-\\frac{\\omega^2}{4a}} \\sqrt{\\frac{\\pi}{a}} = \\sqrt{\\frac{\\pi}{a}} e^{-\\frac{\\omega^2}{4a}} $$ Entonces, la Transformada de Fourier de $e^{-at^2}$$e^{-at^2}$ es $X(\\omega) = \\sqrt{\\frac{\\pi}{a}} e^{-\\frac{\\omega^2}{4a}}$$X(\\omega) = \\sqrt{\\frac{\\pi}{a}} e^{-\\frac{\\omega^2}{4a}}$.\n",
        "\n",
        "f) $x(t) = A \\cdot \\text{Arct}_d(t), \\quad A, d \\in \\mathbb{R}$$x(t) = A \\cdot \\text{Arct}_d(t), \\quad A, d \\in \\mathbb{R}$"
      ],
      "metadata": {
        "id": "DSU20N04y3AJ"
      }
    },
    {
      "cell_type": "markdown",
      "source": [
        "#3)"
      ],
      "metadata": {
        "id": "o_7pzCJyzJEY"
      }
    },
    {
      "cell_type": "markdown",
      "source": [
        "Aplique las propiedades de la transformada de Fourier para resolver:\n",
        "\n",
        "$$\n",
        "\\text{a) } \\mathcal{F}\\{e^{-jw_1 t} \\cos(w_c t)\\}, \\quad w_1, w_c \\in \\mathbb{R}\n",
        "$$\n",
        "\n",
        "$$\n",
        "\\text{b) } \\mathcal{F}\\{u(t)\\cos^2(w_c t)\\}, \\quad w_c \\in \\mathbb{R}\n",
        "$$\n",
        "\n",
        "$$\n",
        "\\text{c) } \\mathcal{F}^{-1}\\left\\{ \\frac{7}{(w + 6w + 45)} \\right\\} * \\frac{10}{(8 + jw/3)^2}\n",
        "$$\n",
        "\n",
        "$$\n",
        "\\text{d) } \\mathcal{F}\\{3t^3\\}\n",
        "$$\n",
        "\n",
        "$$\n",
        "\\text{e) } \\frac{B}{T} \\sum_{n=-\\infty}^{+\\infty} \\left( \\frac{1}{a^2 + (w - n\\omega_o)^2} + \\frac{1}{a + j(w - n\\omega_o)} \\right),\n",
        "$$\n",
        "\n",
        "donde:$$ ( n \\in \\{0, \\pm1, \\pm2, \\dots\\}, \\quad \\omega_o = \\frac{2\\pi}{T}, \\quad B, T \\in \\mathbb{R}^+ )$$"
      ],
      "metadata": {
        "id": "Fln66iWMzQRr"
      }
    }
  ]
}